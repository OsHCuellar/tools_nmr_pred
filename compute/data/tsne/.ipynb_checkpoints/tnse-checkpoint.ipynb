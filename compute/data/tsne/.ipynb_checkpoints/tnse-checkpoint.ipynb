{
 "cells": [
  {
   "cell_type": "code",
   "execution_count": null,
   "id": "054a7a38-15e5-4d08-81df-1b7806634bd7",
   "metadata": {},
   "outputs": [],
   "source": [
    "import pandas as pd\n",
    "import numpy as np\n",
    "from sklearn.manifold import TSNE\n",
    "import matplotlib.pyplot as plt\n",
    "import rdkit"
   ]
  },
  {
   "cell_type": "code",
   "execution_count": null,
   "id": "835b81e1-4e98-45f3-8835-288a3eb68224",
   "metadata": {},
   "outputs": [],
   "source": [
    "data = pd.read_csv('')"
   ]
  },
  {
   "cell_type": "code",
   "execution_count": null,
   "id": "a91292fc-fbe5-4f3a-9eb4-06bfd8a85ce2",
   "metadata": {},
   "outputs": [],
   "source": [
    "data.head"
   ]
  },
  {
   "cell_type": "code",
   "execution_count": null,
   "id": "a66d1fd5-35aa-4a67-a5b9-7c2a837a3cf4",
   "metadata": {},
   "outputs": [],
   "source": [
    "# Separate the input vector - create representation\n",
    "# MF to begin with \n",
    "structures = data.database_id.Values\n",
    "n = 1024 #length of the vector, first assume 1024 bit from MF\n",
    "X = np.zeroes(n,len(structures))\n",
    "\n",
    "for i in structures:\n",
    "    \n",
    "\n"
   ]
  },
  {
   "cell_type": "code",
   "execution_count": null,
   "id": "f0e0b507-21aa-498b-be57-b777395f8082",
   "metadata": {},
   "outputs": [],
   "source": [
    "# Select which label to use for the colouring - Suggestion: No of peaks, No of Hs, MolWeight\n",
    "y = data[''].values\n"
   ]
  },
  {
   "cell_type": "code",
   "execution_count": null,
   "id": "b900ce46-4a59-4948-880a-186f49012c1d",
   "metadata": {},
   "outputs": [],
   "source": [
    "# Define the distance metrics to use\n",
    "metrics = ['euclidean', 'manhattan', 'cosine']\n",
    "# Define perplexities\n",
    "perplexity = [5, 15, 25, 50, 100, 250]\n",
    "# Perform t-SNE dimensionality reduction with different distance metrics\n",
    "#fig, axes = plt.subplots(3, len(perplexity), figsize=(20, 8))\n",
    "for i, metric in enumerate(metrics):\n",
    "    for j, perp in enumerate(perplexity):\n",
    "        tsne = TSNE(n_components=2, random_state=0, metric=metric, perplexity=perp, learning_rate=200.0, n_iter=1000)\n",
    "\n",
    "        X_tsne = tsne.fit_transform(X)\n",
    "        # Visualize the t-SNE map\n",
    "        ax = axes[i]\n",
    "        scatter = ax.scatter(X_tsne[:, 0], X_tsne[:, 1], c=y, cmap=plt.cm.get_cmap('rainbow', 10))\n",
    "        ax.set_title(f't-SNE map with {metric} distance and perplexity: {perp}')\n",
    "        # Visualize the t-SNE map\n",
    "        plt.figure(figsize=(10, 8))\n",
    "        scatter = plt.scatter(X_tsne[:, 0], X_tsne[:, 1], c=y, cmap=plt.cm.get_cmap('rainbow', 10))\n",
    "        plt.colorbar(scatter)\n",
    "        plt.title(f't-SNE map (metric={metric}, perplexity={perplexity})')\n",
    "        plt.show()\n",
    "        #ax.set_xlabel('t-SNE component 1')\n",
    "        #ax.set_ylabel('t-SNE component 2')\n",
    "        #ax.colorbar(scatter)\n",
    "plt.colorbar(scatter)\n",
    "plt.show()"
   ]
  },
  {
   "cell_type": "code",
   "execution_count": null,
   "id": "c52e9057-644b-482f-b43b-293cec789511",
   "metadata": {},
   "outputs": [],
   "source": [
    "\n",
    "#now do it for one and save it (the three above are nice for a comparison, but let's keep it simple\n",
    "metrics = ['euclidean', 'manhattan', 'cosine']\n",
    "perp = 50\n",
    "# Perform t-SNE dimensionality reduction\n",
    "tsne = TSNE(n_components=2, random_state=0, metric=metric, perplexity=perp, learning_rate=200.0, n_iter=1000)\n",
    "X_tsne = tsne.fit_transform(X)\n",
    "\n",
    "# Visualize the t-SNE map\n",
    "plt.figure(figsize=(10, 8))\n",
    "scatter = plt.scatter(X_tsne[:, 0], X_tsne[:, 1], c=y, cmap=plt.cm.get_cmap('rainbow', 10))\n",
    "plt.colorbar(scatter)\n",
    "plt.title('t-SNE map')\n",
    "plt.show()\n",
    "#change metric down here if as well if you have changed it before\n",
    "plt.figsave('tsne_{metric[0]}_{perp}.png')"
   ]
  },
  {
   "cell_type": "code",
   "execution_count": null,
   "id": "02e6c365-f60c-44eb-8ba0-93d762e675d1",
   "metadata": {},
   "outputs": [],
   "source": []
  }
 ],
 "metadata": {
  "kernelspec": {
   "display_name": "Python 3",
   "language": "python",
   "name": "python3"
  },
  "language_info": {
   "codemirror_mode": {
    "name": "ipython",
    "version": 3
   },
   "file_extension": ".py",
   "mimetype": "text/x-python",
   "name": "python",
   "nbconvert_exporter": "python",
   "pygments_lexer": "ipython3",
   "version": "3.6.9"
  }
 },
 "nbformat": 4,
 "nbformat_minor": 5
}
